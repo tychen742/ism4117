{
 "cells": [
  {
   "cell_type": "markdown",
   "id": "48cc5772",
   "metadata": {},
   "source": [
    "# Python Arithmetic Operations in Jupyter Notebook"
   ]
  },
  {
   "cell_type": "markdown",
   "id": "5e06b6ca",
   "metadata": {},
   "source": [
    "Run this Notebook and explain what the last three results are. "
   ]
  },
  {
   "cell_type": "code",
   "execution_count": null,
   "id": "83dfa89e",
   "metadata": {},
   "outputs": [],
   "source": [
    "3 + 2"
   ]
  },
  {
   "cell_type": "code",
   "execution_count": null,
   "id": "7a4d9748",
   "metadata": {},
   "outputs": [],
   "source": [
    "3 - 2"
   ]
  },
  {
   "cell_type": "code",
   "execution_count": null,
   "id": "bc86a3c2",
   "metadata": {},
   "outputs": [],
   "source": [
    "3 * 2"
   ]
  },
  {
   "cell_type": "code",
   "execution_count": null,
   "id": "4204a526",
   "metadata": {
    "scrolled": true
   },
   "outputs": [],
   "source": [
    "3 / 2"
   ]
  },
  {
   "cell_type": "code",
   "execution_count": null,
   "id": "66812d1f",
   "metadata": {},
   "outputs": [],
   "source": [
    "3 % 2"
   ]
  },
  {
   "cell_type": "code",
   "execution_count": null,
   "id": "3151b9c5",
   "metadata": {},
   "outputs": [],
   "source": [
    "3 ** 2"
   ]
  },
  {
   "cell_type": "code",
   "execution_count": null,
   "id": "8104907f",
   "metadata": {},
   "outputs": [],
   "source": [
    "3 // 2"
   ]
  },
  {
   "cell_type": "markdown",
   "id": "7b8034cb",
   "metadata": {},
   "source": [
    "## This is heading 2  sss"
   ]
  },
  {
   "cell_type": "code",
   "execution_count": null,
   "id": "d50626d8",
   "metadata": {},
   "outputs": [],
   "source": []
  }
 ],
 "metadata": {
  "kernelspec": {
   "display_name": "Python 3 (ipykernel)",
   "language": "python",
   "name": "python3"
  },
  "language_info": {
   "codemirror_mode": {
    "name": "ipython",
    "version": 3
   },
   "file_extension": ".py",
   "mimetype": "text/x-python",
   "name": "python",
   "nbconvert_exporter": "python",
   "pygments_lexer": "ipython3",
   "version": "3.9.7"
  }
 },
 "nbformat": 4,
 "nbformat_minor": 5
}
