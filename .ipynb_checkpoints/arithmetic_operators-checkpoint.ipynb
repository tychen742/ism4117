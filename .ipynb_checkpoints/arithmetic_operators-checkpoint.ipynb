{
 "cells": [
  {
   "cell_type": "code",
   "execution_count": null,
   "id": "ffd65d5e",
   "metadata": {},
   "outputs": [],
   "source": []
  },
  {
   "cell_type": "code",
   "execution_count": 4,
   "id": "2e890d17",
   "metadata": {},
   "outputs": [
    {
     "data": {
      "text/plain": [
       "[1, 2, 3, 4, 5]"
      ]
     },
     "execution_count": 4,
     "metadata": {},
     "output_type": "execute_result"
    }
   ],
   "source": [
    "aList = [ 1, 2, 3, 4, 5 ]\n",
    "aList"
   ]
  },
  {
   "cell_type": "markdown",
   "id": "bac3f9b0",
   "metadata": {},
   "source": [
    "A markdown cell is for documentation. It will not be executed when the notebook is run."
   ]
  },
  {
   "cell_type": "markdown",
   "id": "8b67f49c",
   "metadata": {},
   "source": [
    "# This is Heading one"
   ]
  },
  {
   "cell_type": "markdown",
   "id": "596bc2fa",
   "metadata": {},
   "source": [
    "## This is heading 2  sss"
   ]
  },
  {
   "cell_type": "code",
   "execution_count": null,
   "id": "27a709fe",
   "metadata": {},
   "outputs": [],
   "source": []
  }
 ],
 "metadata": {
  "kernelspec": {
   "display_name": "Python 3 (ipykernel)",
   "language": "python",
   "name": "python3"
  },
  "language_info": {
   "codemirror_mode": {
    "name": "ipython",
    "version": 3
   },
   "file_extension": ".py",
   "mimetype": "text/x-python",
   "name": "python",
   "nbconvert_exporter": "python",
   "pygments_lexer": "ipython3",
   "version": "3.9.7"
  }
 },
 "nbformat": 4,
 "nbformat_minor": 5
}
