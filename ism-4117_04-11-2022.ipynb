{
 "cells": [
  {
   "cell_type": "markdown",
   "id": "4b65518c",
   "metadata": {},
   "source": [
    "# 1. Comments "
   ]
  },
  {
   "cell_type": "code",
   "execution_count": null,
   "id": "f08bc97e",
   "metadata": {},
   "outputs": [],
   "source": [
    "##### This is a comment #####\n",
    "# You actually only need one #\n",
    "# and you don't have to close this. It's not like those HTML tags or {} in programming languages\n",
    "### Comments are very important because we forget critical details like how this decision is done\n",
    "### Some people say that your code should speak for itself but that's just not enough\n",
    "\n",
    "### I know you are smart enough to ask, and the answer is \"No. There is no block comments in Python.\""
   ]
  },
  {
   "cell_type": "markdown",
   "id": "fcddd215",
   "metadata": {},
   "source": [
    "# 2. Indentation"
   ]
  },
  {
   "cell_type": "code",
   "execution_count": null,
   "id": "e0a0619d",
   "metadata": {},
   "outputs": [],
   "source": [
    "##### indentation: Each block of code has its own indentation #####\n",
    "# indentation is a special feature in Python, it says: \"This is a block of code\"\n",
    "# indentations are like curley brackets in other programming languages\n",
    "\n",
    "### let us begin with a function, which we have not talked about before\n",
    "def timesFive(x):\n",
    "    return x * 5      ##### here is an indentation this is a block of code\n",
    "\n",
    "print(timesFive(9))   ##### we are calling this function. No need for indentation\n",
    "\n",
    "### or, in a for loop"
   ]
  },
  {
   "cell_type": "markdown",
   "id": "76660a5e",
   "metadata": {},
   "source": [
    "# 3. Indexing"
   ]
  },
  {
   "cell_type": "code",
   "execution_count": null,
   "id": "1c193c9c",
   "metadata": {},
   "outputs": [],
   "source": [
    "##### indexing #####\n",
    "\n",
    "### indexing in list\n",
    "aList = [1, 2, 3]\n",
    "print(aList[1])\n",
    "\n",
    "### indexing in string\n",
    "aStr = \"Hey, I am a string!\"\n",
    "print(aStr[1])"
   ]
  },
  {
   "cell_type": "markdown",
   "id": "3ea52c22",
   "metadata": {},
   "source": [
    "# 4. Comparison Operators: ==, !=, <, >, <=, =>\n",
    "### Comparison operators result in True or False"
   ]
  },
  {
   "cell_type": "code",
   "execution_count": null,
   "id": "d43113f2",
   "metadata": {},
   "outputs": [],
   "source": [
    "##### Comparison Operators #####\n",
    "### these are used to create expressions \n",
    "### experssions are give us values. The results in comparison operators are boolean values: True or False. \n",
    "2 == 2\n"
   ]
  },
  {
   "cell_type": "code",
   "execution_count": null,
   "id": "c04c9b64",
   "metadata": {},
   "outputs": [],
   "source": [
    "2 != 3"
   ]
  },
  {
   "cell_type": "code",
   "execution_count": null,
   "id": "b9115a16",
   "metadata": {},
   "outputs": [],
   "source": [
    "boolValue1 = 2 > 5\n",
    "boolValue1"
   ]
  },
  {
   "cell_type": "code",
   "execution_count": null,
   "id": "62e7ed84",
   "metadata": {},
   "outputs": [],
   "source": [
    "5 <= 6"
   ]
  },
  {
   "cell_type": "code",
   "execution_count": null,
   "id": "e106dbc2",
   "metadata": {},
   "outputs": [],
   "source": [
    "5 <= 5"
   ]
  },
  {
   "cell_type": "code",
   "execution_count": null,
   "id": "029ae7d6",
   "metadata": {},
   "outputs": [],
   "source": [
    "5 =< 5"
   ]
  },
  {
   "cell_type": "markdown",
   "id": "25949190",
   "metadata": {},
   "source": [
    "### Q: Why is the code above giving an error when run?"
   ]
  },
  {
   "cell_type": "markdown",
   "id": "cf8194a7",
   "metadata": {},
   "source": [
    "### A:"
   ]
  },
  {
   "cell_type": "markdown",
   "id": "593c80d9",
   "metadata": {},
   "source": [
    "### Now that we are on the operators, let us take a look at Addition Assignment operator (+=):"
   ]
  },
  {
   "cell_type": "code",
   "execution_count": null,
   "id": "b8222631",
   "metadata": {},
   "outputs": [],
   "source": [
    "### now there's something extra:\n",
    "x = 5\n",
    "x = x + 1\n",
    "x += 1\n",
    "x"
   ]
  },
  {
   "cell_type": "markdown",
   "id": "3dc8eeb0",
   "metadata": {},
   "source": [
    "# 5. Logical Operators: and, or, not"
   ]
  },
  {
   "cell_type": "code",
   "execution_count": null,
   "id": "67b403a1",
   "metadata": {},
   "outputs": [],
   "source": [
    "##### Logical Operators: AND, OR, NOT: compare statements and return boolean values #####\n",
    "True and False"
   ]
  },
  {
   "cell_type": "code",
   "execution_count": null,
   "id": "0b22a7d1",
   "metadata": {},
   "outputs": [],
   "source": [
    "True or False"
   ]
  },
  {
   "cell_type": "code",
   "execution_count": null,
   "id": "47322c2f",
   "metadata": {},
   "outputs": [],
   "source": [
    "not True"
   ]
  },
  {
   "cell_type": "code",
   "execution_count": null,
   "id": "5bf0c7e5",
   "metadata": {},
   "outputs": [],
   "source": [
    "### logical operators are case sensitive\n",
    "not true"
   ]
  },
  {
   "cell_type": "code",
   "execution_count": null,
   "id": "929a005c",
   "metadata": {},
   "outputs": [],
   "source": [
    "### logical operators are case sensitive\n",
    "Not True"
   ]
  },
  {
   "cell_type": "markdown",
   "id": "89c0cb32",
   "metadata": {},
   "source": [
    "### Q: Why does the two codes above give us error?"
   ]
  },
  {
   "cell_type": "markdown",
   "id": "68b4221b",
   "metadata": {},
   "source": [
    "### A:"
   ]
  },
  {
   "cell_type": "markdown",
   "id": "d3117a2d",
   "metadata": {},
   "source": [
    "# 6. Function"
   ]
  },
  {
   "cell_type": "code",
   "execution_count": null,
   "id": "69b3b277",
   "metadata": {},
   "outputs": [],
   "source": [
    "### let's push a little following the logical operator\n",
    "def returnTrue():\n",
    "    return True \n",
    "\n",
    "### in this if statement, we have a value, which is returned from CALLing a function named returnTrue()\n",
    "### as you can see, the function returnTrue() will always return \"True\" the boolean value\n",
    "if (returnTrue()):\n",
    "    print(returnTrue())\n",
    "    print(\"It is true!!\")\n"
   ]
  },
  {
   "cell_type": "markdown",
   "id": "d446e667",
   "metadata": {},
   "source": [
    "### Q: In the code above, what is the value of returnTrue()?"
   ]
  },
  {
   "cell_type": "markdown",
   "id": "c7929ce8",
   "metadata": {},
   "source": [
    "### A: "
   ]
  },
  {
   "cell_type": "markdown",
   "id": "ce9384e3",
   "metadata": {},
   "source": [
    "### ------------------"
   ]
  },
  {
   "cell_type": "markdown",
   "id": "332c03a6",
   "metadata": {},
   "source": [
    "### Read the comments and run the code below"
   ]
  },
  {
   "cell_type": "code",
   "execution_count": null,
   "id": "71fc2b6a",
   "metadata": {},
   "outputs": [],
   "source": [
    "### Now let's do another function. def means define\n",
    "### this time in the parenthesis of the function, we have two parameters\n",
    "def addTwo(x, y):\n",
    "    return (x + y)\n",
    "\n",
    "### now let's call the function:\n",
    "addTwo(100, 1)\n",
    "### note that when a value is returned, it is in the output cell directly\n",
    "### you recall that when we use VS Code, we have to run the file and it does't always work."
   ]
  },
  {
   "cell_type": "markdown",
   "id": "9fa3fde3",
   "metadata": {},
   "source": [
    "### Q: Are you able to prepare a function? Try prepare a function in the code cell below"
   ]
  },
  {
   "cell_type": "code",
   "execution_count": null,
   "id": "950e97cf",
   "metadata": {},
   "outputs": [],
   "source": [
    "### now prepare your first function:\n",
    "### do a timeTwo() function to take two input parameters and return the product of them\n",
    "\n"
   ]
  },
  {
   "cell_type": "markdown",
   "id": "c0a9e5a6",
   "metadata": {},
   "source": [
    "# 7. The IF statement"
   ]
  },
  {
   "cell_type": "markdown",
   "id": "fca83778",
   "metadata": {},
   "source": [
    "### Functions are harder than if statements so if you get function, you are totally cool now.\n",
    "### the syntax of if statement is \n",
    "#### If condition: \n",
    "####         &ensp; &ensp; &ensp; &ensp; &ensp; &ensp; conditional code"
   ]
  },
  {
   "cell_type": "markdown",
   "id": "fe1f5ce4",
   "metadata": {},
   "source": [
    "### Please run the code below"
   ]
  },
  {
   "cell_type": "code",
   "execution_count": null,
   "id": "24fc5ff6",
   "metadata": {},
   "outputs": [],
   "source": [
    "if 5 = 15 / 3:\n",
    "    print (\"Coool\")"
   ]
  },
  {
   "cell_type": "markdown",
   "id": "4dabea7a",
   "metadata": {},
   "source": [
    "### Q: why is the code above not working?\n",
    "#### provide answer in the markdown line below.\n"
   ]
  },
  {
   "cell_type": "markdown",
   "id": "8ac90c7c",
   "metadata": {},
   "source": [
    "### A:"
   ]
  },
  {
   "cell_type": "markdown",
   "id": "68a5382b",
   "metadata": {},
   "source": [
    "# 8. User Input: input()"
   ]
  },
  {
   "cell_type": "code",
   "execution_count": null,
   "id": "e16e8085",
   "metadata": {},
   "outputs": [],
   "source": [
    "###\n",
    "secretNum = 50\n",
    "answerNum = input(\"Please enter a number between 0 and 99: \")\n",
    "if se"
   ]
  },
  {
   "cell_type": "code",
   "execution_count": null,
   "id": "baf0e808",
   "metadata": {},
   "outputs": [],
   "source": []
  }
 ],
 "metadata": {
  "kernelspec": {
   "display_name": "Python 3 (ipykernel)",
   "language": "python",
   "name": "python3"
  },
  "language_info": {
   "codemirror_mode": {
    "name": "ipython",
    "version": 3
   },
   "file_extension": ".py",
   "mimetype": "text/x-python",
   "name": "python",
   "nbconvert_exporter": "python",
   "pygments_lexer": "ipython3",
   "version": "3.9.7"
  }
 },
 "nbformat": 4,
 "nbformat_minor": 5
}
