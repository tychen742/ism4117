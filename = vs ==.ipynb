{
 "cells": [
  {
   "cell_type": "markdown",
   "id": "d9eea282",
   "metadata": {},
   "source": [
    "# What Are The Difference Betwee == and =?"
   ]
  },
  {
   "cell_type": "markdown",
   "id": "62a60009",
   "metadata": {},
   "source": [
    "## == double equality sign"
   ]
  },
  {
   "cell_type": "code",
   "execution_count": null,
   "id": "fca1a023",
   "metadata": {},
   "outputs": [],
   "source": [
    "y = 5 ** 2"
   ]
  },
  {
   "cell_type": "code",
   "execution_count": null,
   "id": "d8f5000d",
   "metadata": {},
   "outputs": [],
   "source": [
    "y"
   ]
  },
  {
   "cell_type": "code",
   "execution_count": null,
   "id": "e6a8a58e",
   "metadata": {},
   "outputs": [],
   "source": [
    "y == 25"
   ]
  },
  {
   "cell_type": "code",
   "execution_count": null,
   "id": "42d4b889",
   "metadata": {},
   "outputs": [],
   "source": [
    "y == 33"
   ]
  },
  {
   "cell_type": "markdown",
   "id": "8cf190be",
   "metadata": {},
   "source": [
    "## = assign"
   ]
  },
  {
   "cell_type": "code",
   "execution_count": null,
   "id": "aa3ed661",
   "metadata": {},
   "outputs": [],
   "source": [
    "z = 1"
   ]
  },
  {
   "cell_type": "code",
   "execution_count": null,
   "id": "82bf5d52",
   "metadata": {},
   "outputs": [],
   "source": [
    "z = 10000000"
   ]
  },
  {
   "cell_type": "code",
   "execution_count": null,
   "id": "2206d24e",
   "metadata": {},
   "outputs": [],
   "source": [
    "z"
   ]
  }
 ],
 "metadata": {
  "kernelspec": {
   "display_name": "Python 3 (ipykernel)",
   "language": "python",
   "name": "python3"
  },
  "language_info": {
   "codemirror_mode": {
    "name": "ipython",
    "version": 3
   },
   "file_extension": ".py",
   "mimetype": "text/x-python",
   "name": "python",
   "nbconvert_exporter": "python",
   "pygments_lexer": "ipython3",
   "version": "3.9.7"
  }
 },
 "nbformat": 4,
 "nbformat_minor": 5
}
